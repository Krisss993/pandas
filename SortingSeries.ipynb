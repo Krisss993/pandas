{
 "cells": [
  {
   "cell_type": "code",
   "execution_count": 124,
   "id": "c884eab5",
   "metadata": {},
   "outputs": [],
   "source": [
    "import pandas as pd\n",
    "import numpy as np\n",
    "import matplotlib.pyplot as plt\n",
    "import math as math\n",
    "import random as rd"
   ]
  },
  {
   "cell_type": "code",
   "execution_count": 14,
   "id": "e5931218",
   "metadata": {},
   "outputs": [],
   "source": [
    "pok=pd.read_csv('F:/PandasUdemy/course-files/pokemon.csv',usecols=['Name']).squeeze()"
   ]
  },
  {
   "cell_type": "code",
   "execution_count": 18,
   "id": "af616ea1",
   "metadata": {},
   "outputs": [
    {
     "data": {
      "text/plain": [
       "794    Zygarde50% Forme\n",
       "695            Zweilous\n",
       "46                Zubat\n",
       "631               Zorua\n",
       "632             Zoroark\n",
       "Name: Name, dtype: object"
      ]
     },
     "execution_count": 18,
     "metadata": {},
     "output_type": "execute_result"
    }
   ],
   "source": [
    "pok.sort_values(ascending=False).head()"
   ]
  },
  {
   "cell_type": "code",
   "execution_count": 20,
   "id": "0a029a9f",
   "metadata": {},
   "outputs": [
    {
     "data": {
      "text/plain": [
       "0                  Bulbasaur\n",
       "1                    Ivysaur\n",
       "2                   Venusaur\n",
       "3      VenusaurMega Venusaur\n",
       "4                 Charmander\n",
       "               ...          \n",
       "795                  Diancie\n",
       "796      DiancieMega Diancie\n",
       "797      HoopaHoopa Confined\n",
       "798       HoopaHoopa Unbound\n",
       "799                Volcanion\n",
       "Name: Name, Length: 800, dtype: object"
      ]
     },
     "execution_count": 20,
     "metadata": {},
     "output_type": "execute_result"
    }
   ],
   "source": [
    "pok"
   ]
  },
  {
   "cell_type": "code",
   "execution_count": 29,
   "id": "0cc446ce",
   "metadata": {},
   "outputs": [
    {
     "data": {
      "text/plain": [
       "0                Bulbasaur\n",
       "1                  Ivysaur\n",
       "2                 Venusaur\n",
       "3    VenusaurMega Venusaur\n",
       "4               Charmander\n",
       "Name: Name, dtype: object"
      ]
     },
     "execution_count": 29,
     "metadata": {},
     "output_type": "execute_result"
    }
   ],
   "source": [
    "pok.head()"
   ]
  },
  {
   "cell_type": "code",
   "execution_count": 30,
   "id": "9eca8cbe",
   "metadata": {},
   "outputs": [
    {
     "data": {
      "text/plain": [
       "794    Zygarde50% Forme\n",
       "695            Zweilous\n",
       "46                Zubat\n",
       "631               Zorua\n",
       "632             Zoroark\n",
       "Name: Name, dtype: object"
      ]
     },
     "execution_count": 30,
     "metadata": {},
     "output_type": "execute_result"
    }
   ],
   "source": [
    "pok_sor=pok.sort_values(ascending=False)\n",
    "pok_sor.head()"
   ]
  },
  {
   "cell_type": "code",
   "execution_count": 32,
   "id": "e3555f0e",
   "metadata": {},
   "outputs": [
    {
     "data": {
      "text/plain": [
       "799              Volcanion\n",
       "798     HoopaHoopa Unbound\n",
       "797    HoopaHoopa Confined\n",
       "796    DiancieMega Diancie\n",
       "795                Diancie\n",
       "Name: Name, dtype: object"
      ]
     },
     "execution_count": 32,
     "metadata": {},
     "output_type": "execute_result"
    }
   ],
   "source": [
    "pok.sort_index(ascending=False).head()"
   ]
  },
  {
   "cell_type": "code",
   "execution_count": 33,
   "id": "b6b32880",
   "metadata": {},
   "outputs": [
    {
     "data": {
      "text/plain": [
       "True"
      ]
     },
     "execution_count": 33,
     "metadata": {},
     "output_type": "execute_result"
    }
   ],
   "source": [
    "countries=['EU','US','PL','IT']\n",
    "'PL' in countries"
   ]
  },
  {
   "cell_type": "code",
   "execution_count": 34,
   "id": "9c6df2ac",
   "metadata": {},
   "outputs": [
    {
     "data": {
      "text/plain": [
       "False"
      ]
     },
     "execution_count": 34,
     "metadata": {},
     "output_type": "execute_result"
    }
   ],
   "source": [
    "'ES' in countries"
   ]
  },
  {
   "cell_type": "code",
   "execution_count": 35,
   "id": "0cfcd6e5",
   "metadata": {},
   "outputs": [],
   "source": [
    "coSer=pd.Series(countries)"
   ]
  },
  {
   "cell_type": "code",
   "execution_count": 36,
   "id": "791de491",
   "metadata": {},
   "outputs": [
    {
     "data": {
      "text/plain": [
       "0    EU\n",
       "1    US\n",
       "2    PL\n",
       "3    IT\n",
       "dtype: object"
      ]
     },
     "execution_count": 36,
     "metadata": {},
     "output_type": "execute_result"
    }
   ],
   "source": [
    "coSer\n"
   ]
  },
  {
   "cell_type": "code",
   "execution_count": 37,
   "id": "da12ac70",
   "metadata": {},
   "outputs": [
    {
     "data": {
      "text/plain": [
       "False"
      ]
     },
     "execution_count": 37,
     "metadata": {},
     "output_type": "execute_result"
    }
   ],
   "source": [
    "'EU' in coSer"
   ]
  },
  {
   "cell_type": "code",
   "execution_count": 38,
   "id": "aff8d0c9",
   "metadata": {},
   "outputs": [
    {
     "data": {
      "text/plain": [
       "True"
      ]
     },
     "execution_count": 38,
     "metadata": {},
     "output_type": "execute_result"
    }
   ],
   "source": [
    "0 in coSer"
   ]
  },
  {
   "cell_type": "code",
   "execution_count": 39,
   "id": "5946ac82",
   "metadata": {},
   "outputs": [
    {
     "data": {
      "text/plain": [
       "RangeIndex(start=0, stop=800, step=1)"
      ]
     },
     "execution_count": 39,
     "metadata": {},
     "output_type": "execute_result"
    }
   ],
   "source": [
    "pok.index"
   ]
  },
  {
   "cell_type": "code",
   "execution_count": 41,
   "id": "7cbc678d",
   "metadata": {},
   "outputs": [
    {
     "data": {
      "text/plain": [
       "True"
      ]
     },
     "execution_count": 41,
     "metadata": {},
     "output_type": "execute_result"
    }
   ],
   "source": [
    "'EU' in coSer.values"
   ]
  },
  {
   "cell_type": "code",
   "execution_count": 42,
   "id": "5093a0ac",
   "metadata": {},
   "outputs": [
    {
     "data": {
      "text/plain": [
       "'Machoke'"
      ]
     },
     "execution_count": 42,
     "metadata": {},
     "output_type": "execute_result"
    }
   ],
   "source": [
    "pok[73]"
   ]
  },
  {
   "cell_type": "code",
   "execution_count": 43,
   "id": "0d75443f",
   "metadata": {},
   "outputs": [
    {
     "data": {
      "text/plain": [
       "73    Machoke\n",
       "65    Poliwag\n",
       "Name: Name, dtype: object"
      ]
     },
     "execution_count": 43,
     "metadata": {},
     "output_type": "execute_result"
    }
   ],
   "source": [
    "pok[[73,65]]"
   ]
  },
  {
   "cell_type": "code",
   "execution_count": 46,
   "id": "57ecb241",
   "metadata": {},
   "outputs": [
    {
     "data": {
      "text/plain": [
       "63    Growlithe\n",
       "64     Arcanine\n",
       "Name: Name, dtype: object"
      ]
     },
     "execution_count": 46,
     "metadata": {},
     "output_type": "execute_result"
    }
   ],
   "source": [
    "pok[63:65]"
   ]
  },
  {
   "cell_type": "code",
   "execution_count": 57,
   "id": "d8a1e96c",
   "metadata": {},
   "outputs": [],
   "source": [
    "i=['a','b','c','d','e','e']\n",
    "v=['Austria','Belgium','Canada','Denmark','England','Estonia']\n",
    "s=pd.Series(index=i,data=v)"
   ]
  },
  {
   "cell_type": "code",
   "execution_count": 58,
   "id": "82b37904",
   "metadata": {},
   "outputs": [
    {
     "data": {
      "text/plain": [
       "a    Austria\n",
       "b    Belgium\n",
       "c     Canada\n",
       "d    Denmark\n",
       "e    England\n",
       "e    Estonia\n",
       "dtype: object"
      ]
     },
     "execution_count": 58,
     "metadata": {},
     "output_type": "execute_result"
    }
   ],
   "source": [
    "s"
   ]
  },
  {
   "cell_type": "code",
   "execution_count": 59,
   "id": "eee7eb1f",
   "metadata": {},
   "outputs": [
    {
     "data": {
      "text/plain": [
       "e    England\n",
       "e    Estonia\n",
       "dtype: object"
      ]
     },
     "execution_count": 59,
     "metadata": {},
     "output_type": "execute_result"
    }
   ],
   "source": [
    "s['e']"
   ]
  },
  {
   "cell_type": "code",
   "execution_count": 60,
   "id": "23ce5480",
   "metadata": {},
   "outputs": [
    {
     "name": "stderr",
     "output_type": "stream",
     "text": [
      "C:\\Users\\kpas9\\AppData\\Local\\Temp\\ipykernel_4068\\878419959.py:1: FutureWarning: Series.__getitem__ treating keys as positions is deprecated. In a future version, integer keys will always be treated as labels (consistent with DataFrame behavior). To access a value by position, use `ser.iloc[pos]`\n",
      "  s[1]\n"
     ]
    },
    {
     "data": {
      "text/plain": [
       "'Belgium'"
      ]
     },
     "execution_count": 60,
     "metadata": {},
     "output_type": "execute_result"
    }
   ],
   "source": [
    "s[1]"
   ]
  },
  {
   "cell_type": "code",
   "execution_count": 61,
   "id": "c3c6cccb",
   "metadata": {},
   "outputs": [
    {
     "data": {
      "text/plain": [
       "e    England\n",
       "e    Estonia\n",
       "dtype: object"
      ]
     },
     "execution_count": 61,
     "metadata": {},
     "output_type": "execute_result"
    }
   ],
   "source": [
    "s.get('e')"
   ]
  },
  {
   "cell_type": "code",
   "execution_count": 62,
   "id": "9fb68662",
   "metadata": {},
   "outputs": [
    {
     "name": "stderr",
     "output_type": "stream",
     "text": [
      "C:\\Users\\kpas9\\AppData\\Local\\Temp\\ipykernel_4068\\2636016302.py:1: FutureWarning: Series.__getitem__ treating keys as positions is deprecated. In a future version, integer keys will always be treated as labels (consistent with DataFrame behavior). To access a value by position, use `ser.iloc[pos]`\n",
      "  s.get(1)\n"
     ]
    },
    {
     "data": {
      "text/plain": [
       "'Belgium'"
      ]
     },
     "execution_count": 62,
     "metadata": {},
     "output_type": "execute_result"
    }
   ],
   "source": [
    "s.get(1)"
   ]
  },
  {
   "cell_type": "code",
   "execution_count": 65,
   "id": "f5035853",
   "metadata": {},
   "outputs": [
    {
     "data": {
      "text/plain": [
       "e    England\n",
       "e    Estonia\n",
       "dtype: object"
      ]
     },
     "execution_count": 65,
     "metadata": {},
     "output_type": "execute_result"
    }
   ],
   "source": [
    "s.at['e']"
   ]
  },
  {
   "cell_type": "code",
   "execution_count": 66,
   "id": "bafcb930",
   "metadata": {},
   "outputs": [
    {
     "data": {
      "text/plain": [
       "'Belgium'"
      ]
     },
     "execution_count": 66,
     "metadata": {},
     "output_type": "execute_result"
    }
   ],
   "source": [
    "s.iat[1]"
   ]
  },
  {
   "cell_type": "code",
   "execution_count": 67,
   "id": "586fd46c",
   "metadata": {},
   "outputs": [
    {
     "ename": "ValueError",
     "evalue": "iAt based indexing can only have integer indexers",
     "output_type": "error",
     "traceback": [
      "\u001b[1;31m---------------------------------------------------------------------------\u001b[0m",
      "\u001b[1;31mValueError\u001b[0m                                Traceback (most recent call last)",
      "Cell \u001b[1;32mIn[67], line 1\u001b[0m\n\u001b[1;32m----> 1\u001b[0m s\u001b[38;5;241m.\u001b[39miat[\u001b[38;5;241m1\u001b[39m:\u001b[38;5;241m2\u001b[39m]\n",
      "File \u001b[1;32mD:\\ProgramData\\anaconda3\\Lib\\site-packages\\pandas\\core\\indexing.py:2439\u001b[0m, in \u001b[0;36m_ScalarAccessIndexer.__getitem__\u001b[1;34m(self, key)\u001b[0m\n\u001b[0;32m   2436\u001b[0m     \u001b[38;5;28;01melse\u001b[39;00m:\n\u001b[0;32m   2437\u001b[0m         \u001b[38;5;28;01mraise\u001b[39;00m \u001b[38;5;167;01mValueError\u001b[39;00m(\u001b[38;5;124m\"\u001b[39m\u001b[38;5;124mInvalid call for scalar access (getting)!\u001b[39m\u001b[38;5;124m\"\u001b[39m)\n\u001b[1;32m-> 2439\u001b[0m key \u001b[38;5;241m=\u001b[39m \u001b[38;5;28mself\u001b[39m\u001b[38;5;241m.\u001b[39m_convert_key(key)\n\u001b[0;32m   2440\u001b[0m \u001b[38;5;28;01mreturn\u001b[39;00m \u001b[38;5;28mself\u001b[39m\u001b[38;5;241m.\u001b[39mobj\u001b[38;5;241m.\u001b[39m_get_value(\u001b[38;5;241m*\u001b[39mkey, takeable\u001b[38;5;241m=\u001b[39m\u001b[38;5;28mself\u001b[39m\u001b[38;5;241m.\u001b[39m_takeable)\n",
      "File \u001b[1;32mD:\\ProgramData\\anaconda3\\Lib\\site-packages\\pandas\\core\\indexing.py:2512\u001b[0m, in \u001b[0;36m_iAtIndexer._convert_key\u001b[1;34m(self, key)\u001b[0m\n\u001b[0;32m   2510\u001b[0m \u001b[38;5;28;01mfor\u001b[39;00m i \u001b[38;5;129;01min\u001b[39;00m key:\n\u001b[0;32m   2511\u001b[0m     \u001b[38;5;28;01mif\u001b[39;00m \u001b[38;5;129;01mnot\u001b[39;00m is_integer(i):\n\u001b[1;32m-> 2512\u001b[0m         \u001b[38;5;28;01mraise\u001b[39;00m \u001b[38;5;167;01mValueError\u001b[39;00m(\u001b[38;5;124m\"\u001b[39m\u001b[38;5;124miAt based indexing can only have integer indexers\u001b[39m\u001b[38;5;124m\"\u001b[39m)\n\u001b[0;32m   2513\u001b[0m \u001b[38;5;28;01mreturn\u001b[39;00m key\n",
      "\u001b[1;31mValueError\u001b[0m: iAt based indexing can only have integer indexers"
     ]
    }
   ],
   "source": [
    "s.iat[1:2]"
   ]
  },
  {
   "cell_type": "code",
   "execution_count": 68,
   "id": "93fc0544",
   "metadata": {},
   "outputs": [
    {
     "data": {
      "text/plain": [
       "'Belgium'"
      ]
     },
     "execution_count": 68,
     "metadata": {},
     "output_type": "execute_result"
    }
   ],
   "source": [
    "s.loc['b']"
   ]
  },
  {
   "cell_type": "code",
   "execution_count": 69,
   "id": "140f6ee2",
   "metadata": {},
   "outputs": [
    {
     "data": {
      "text/plain": [
       "e    England\n",
       "e    Estonia\n",
       "dtype: object"
      ]
     },
     "execution_count": 69,
     "metadata": {},
     "output_type": "execute_result"
    }
   ],
   "source": [
    "s.loc['e']"
   ]
  },
  {
   "cell_type": "code",
   "execution_count": 72,
   "id": "f992d42c",
   "metadata": {},
   "outputs": [
    {
     "data": {
      "text/plain": [
       "b    Belgium\n",
       "c     Canada\n",
       "dtype: object"
      ]
     },
     "execution_count": 72,
     "metadata": {},
     "output_type": "execute_result"
    }
   ],
   "source": [
    "s.iloc[1:3]"
   ]
  },
  {
   "cell_type": "code",
   "execution_count": 73,
   "id": "8bc37912",
   "metadata": {},
   "outputs": [
    {
     "data": {
      "text/plain": [
       "b    Belgium\n",
       "d    Denmark\n",
       "dtype: object"
      ]
     },
     "execution_count": 73,
     "metadata": {},
     "output_type": "execute_result"
    }
   ],
   "source": [
    "s.iloc[[1,3]]"
   ]
  },
  {
   "cell_type": "code",
   "execution_count": 74,
   "id": "12e360af",
   "metadata": {},
   "outputs": [],
   "source": [
    "searchlist=['a','b']"
   ]
  },
  {
   "cell_type": "code",
   "execution_count": 75,
   "id": "189b8be2",
   "metadata": {},
   "outputs": [
    {
     "data": {
      "text/plain": [
       "a    Austria\n",
       "b    Belgium\n",
       "dtype: object"
      ]
     },
     "execution_count": 75,
     "metadata": {},
     "output_type": "execute_result"
    }
   ],
   "source": [
    "s.loc[searchlist]"
   ]
  },
  {
   "cell_type": "code",
   "execution_count": 76,
   "id": "93af4ad7",
   "metadata": {},
   "outputs": [],
   "source": [
    "searchnotfound=['a','h']"
   ]
  },
  {
   "cell_type": "code",
   "execution_count": 81,
   "id": "0a239ef7",
   "metadata": {},
   "outputs": [
    {
     "data": {
      "text/plain": [
       "a    Austria\n",
       "dtype: object"
      ]
     },
     "execution_count": 81,
     "metadata": {},
     "output_type": "execute_result"
    }
   ],
   "source": [
    "s.loc[s.index.intersection(searchnotfound)]"
   ]
  },
  {
   "cell_type": "code",
   "execution_count": 84,
   "id": "e0576bc3",
   "metadata": {},
   "outputs": [],
   "source": [
    "countries=pd.read_csv('F:/PandasUdemy/course-files/countries.csv',usecols=['Symbol','Name'],index_col='Symbol').squeeze()"
   ]
  },
  {
   "cell_type": "code",
   "execution_count": 85,
   "id": "66d725e3",
   "metadata": {},
   "outputs": [
    {
     "data": {
      "text/plain": [
       "Symbol\n",
       "AF                                          Afghanistan\n",
       "AL                                              Albania\n",
       "DZ                                              Algeria\n",
       "AD                                              Andorra\n",
       "AO                                               Angola\n",
       "                            ...                        \n",
       "ZM                                               Zambia\n",
       "QR    Stores and provisions within the framework of ...\n",
       "CV                                           Cape Verde\n",
       "ZW                                             Zimbabwe\n",
       "AE                                 United Arab Emirates\n",
       "Name: Name, Length: 245, dtype: object"
      ]
     },
     "execution_count": 85,
     "metadata": {},
     "output_type": "execute_result"
    }
   ],
   "source": [
    "countries\n"
   ]
  },
  {
   "cell_type": "code",
   "execution_count": 86,
   "id": "e42d7397",
   "metadata": {},
   "outputs": [],
   "source": [
    "countries.dropna(inplace=True)"
   ]
  },
  {
   "cell_type": "code",
   "execution_count": 87,
   "id": "24332919",
   "metadata": {},
   "outputs": [
    {
     "data": {
      "text/plain": [
       "Symbol\n",
       "AF            Afghanistan\n",
       "AL                Albania\n",
       "DZ                Algeria\n",
       "AD                Andorra\n",
       "AO                 Angola\n",
       "AI               Anguilla\n",
       "AQ             Antarctica\n",
       "AG    Antigua and Barbuda\n",
       "SA           Saudi Arabia\n",
       "AR              Argentina\n",
       "AM                Armenia\n",
       "AW                  Aruba\n",
       "AU              Australia\n",
       "AT                Austria\n",
       "AZ             Azerbaijan\n",
       "BS                Bahamas\n",
       "BH                Bahrain\n",
       "BD             Bangladesh\n",
       "BB               Barbados\n",
       "BE                Belgium\n",
       "Name: Name, dtype: object"
      ]
     },
     "execution_count": 87,
     "metadata": {},
     "output_type": "execute_result"
    }
   ],
   "source": [
    "countries.head(20)"
   ]
  },
  {
   "cell_type": "code",
   "execution_count": 90,
   "id": "59943ae0",
   "metadata": {},
   "outputs": [],
   "source": [
    "toFind=['BB','BS']"
   ]
  },
  {
   "cell_type": "code",
   "execution_count": 91,
   "id": "404dc0eb",
   "metadata": {},
   "outputs": [
    {
     "data": {
      "text/plain": [
       "Symbol\n",
       "BB    Barbados\n",
       "BS     Bahamas\n",
       "Name: Name, dtype: object"
      ]
     },
     "execution_count": 91,
     "metadata": {},
     "output_type": "execute_result"
    }
   ],
   "source": [
    "countries.loc[toFind]"
   ]
  },
  {
   "cell_type": "code",
   "execution_count": 92,
   "id": "952393df",
   "metadata": {},
   "outputs": [],
   "source": [
    "toFindError=['BB','BS','AA']"
   ]
  },
  {
   "cell_type": "code",
   "execution_count": 95,
   "id": "37eeefc6",
   "metadata": {},
   "outputs": [
    {
     "data": {
      "text/plain": [
       "Symbol\n",
       "BS     Bahamas\n",
       "BB    Barbados\n",
       "Name: Name, dtype: object"
      ]
     },
     "execution_count": 95,
     "metadata": {},
     "output_type": "execute_result"
    }
   ],
   "source": [
    "countries.loc[countries.index.intersection(toFindError)]"
   ]
  },
  {
   "cell_type": "code",
   "execution_count": 39,
   "id": "6f6558a1",
   "metadata": {},
   "outputs": [],
   "source": [
    "pok=pd.read_csv('F:/PandasUdemy/course-files/pokemon.csv',usecols=['Name','Attack'],index_col='Name').squeeze()"
   ]
  },
  {
   "cell_type": "code",
   "execution_count": 14,
   "id": "93bb2831",
   "metadata": {},
   "outputs": [
    {
     "data": {
      "text/plain": [
       "Attack\n",
       "49                 Bulbasaur\n",
       "62                   Ivysaur\n",
       "82                  Venusaur\n",
       "100    VenusaurMega Venusaur\n",
       "52                Charmander\n",
       "Name: Name, dtype: object"
      ]
     },
     "execution_count": 14,
     "metadata": {},
     "output_type": "execute_result"
    }
   ],
   "source": [
    "pok.head()"
   ]
  },
  {
   "cell_type": "code",
   "execution_count": 15,
   "id": "0a111b8a",
   "metadata": {},
   "outputs": [
    {
     "data": {
      "text/plain": [
       "Attack\n",
       "62     Ivysaur\n",
       "62    Nidorina\n",
       "62     Bayleef\n",
       "62      Snover\n",
       "Name: Name, dtype: object"
      ]
     },
     "execution_count": 15,
     "metadata": {},
     "output_type": "execute_result"
    }
   ],
   "source": [
    "pok.loc[62]"
   ]
  },
  {
   "cell_type": "code",
   "execution_count": 16,
   "id": "b15bcb12",
   "metadata": {},
   "outputs": [
    {
     "data": {
      "text/plain": [
       "'Charizard'"
      ]
     },
     "execution_count": 16,
     "metadata": {},
     "output_type": "execute_result"
    }
   ],
   "source": [
    "pok.iloc[6]"
   ]
  },
  {
   "cell_type": "code",
   "execution_count": 18,
   "id": "b6e17697",
   "metadata": {},
   "outputs": [
    {
     "data": {
      "text/plain": [
       "Attack\n",
       "62     Ivysaur\n",
       "62    Nidorina\n",
       "62     Bayleef\n",
       "62      Snover\n",
       "58     Lanturn\n",
       "58    Chimchar\n",
       "58    Sigilyph\n",
       "58     Dedenne\n",
       "Name: Name, dtype: object"
      ]
     },
     "execution_count": 18,
     "metadata": {},
     "output_type": "execute_result"
    }
   ],
   "source": [
    "pok[[62,58]]"
   ]
  },
  {
   "cell_type": "code",
   "execution_count": 30,
   "id": "32144a02",
   "metadata": {},
   "outputs": [
    {
     "data": {
      "text/plain": [
       "Index([62], dtype='int64', name='Attack')"
      ]
     },
     "execution_count": 30,
     "metadata": {},
     "output_type": "execute_result"
    }
   ],
   "source": [
    "pok[pok=='Ivysaur'].index"
   ]
  },
  {
   "cell_type": "code",
   "execution_count": 33,
   "id": "a6fc2c27",
   "metadata": {},
   "outputs": [
    {
     "data": {
      "text/plain": [
       "'Primeape'"
      ]
     },
     "execution_count": 33,
     "metadata": {},
     "output_type": "execute_result"
    }
   ],
   "source": [
    "pok.iloc[62]"
   ]
  },
  {
   "cell_type": "code",
   "execution_count": 34,
   "id": "48bd5922",
   "metadata": {},
   "outputs": [],
   "source": [
    "fortune500=pd.read_csv('F:/PandasUdemy/course-files/Fortune_500_2017.csv',usecols=['Rank','Title'],index_col='Rank').squeeze()"
   ]
  },
  {
   "cell_type": "code",
   "execution_count": 35,
   "id": "91e09b96",
   "metadata": {},
   "outputs": [
    {
     "data": {
      "text/plain": [
       "Rank\n",
       "1                Walmart\n",
       "2     Berkshire Hathaway\n",
       "3                  Apple\n",
       "4            Exxon Mobil\n",
       "5               McKesson\n",
       "6     UnitedHealth Group\n",
       "7             CVS Health\n",
       "8         General Motors\n",
       "9                   AT&T\n",
       "10            Ford Motor\n",
       "Name: Title, dtype: object"
      ]
     },
     "execution_count": 35,
     "metadata": {},
     "output_type": "execute_result"
    }
   ],
   "source": [
    "fortune500.head(10)"
   ]
  },
  {
   "cell_type": "code",
   "execution_count": 36,
   "id": "bf64d404",
   "metadata": {},
   "outputs": [
    {
     "data": {
      "text/plain": [
       "Rank\n",
       "481           Booz Allen Hamilton Holding\n",
       "482                              Chemours\n",
       "483    Western & Southern Financial Group\n",
       "484                              Celanese\n",
       "485                   Windstream Holdings\n",
       "486                              Seaboard\n",
       "487                             Essendant\n",
       "488                                Apache\n",
       "489                                Airgas\n",
       "490                        Kelly Services\n",
       "491                         Liberty Media\n",
       "492                      Rockwell Collins\n",
       "493             Robert Half International\n",
       "494                             CH2M Hill\n",
       "495                              Big Lots\n",
       "496                         Michaels Cos.\n",
       "497                         Toll Brothers\n",
       "498                                 Yahoo\n",
       "499                         Vistra Energy\n",
       "500                        ABM Industries\n",
       "Name: Title, dtype: object"
      ]
     },
     "execution_count": 36,
     "metadata": {},
     "output_type": "execute_result"
    }
   ],
   "source": [
    "fortune500.tail(20)"
   ]
  },
  {
   "cell_type": "code",
   "execution_count": 39,
   "id": "7fd2dd62",
   "metadata": {},
   "outputs": [],
   "source": [
    "fortune500=pd.read_csv('F:/PandasUdemy/course-files/Fortune_500_2017.csv',usecols=['Title','Employees'],index_col='Title').squeeze()"
   ]
  },
  {
   "cell_type": "code",
   "execution_count": 40,
   "id": "2be3697a",
   "metadata": {},
   "outputs": [
    {
     "data": {
      "text/plain": [
       "Title\n",
       "Walmart               2300000\n",
       "Berkshire Hathaway     367700\n",
       "Apple                  116000\n",
       "Exxon Mobil             72700\n",
       "McKesson                68000\n",
       "Name: Employees, dtype: int64"
      ]
     },
     "execution_count": 40,
     "metadata": {},
     "output_type": "execute_result"
    }
   ],
   "source": [
    "fortune500.head()"
   ]
  },
  {
   "cell_type": "code",
   "execution_count": 45,
   "id": "0e797ea8",
   "metadata": {},
   "outputs": [
    {
     "data": {
      "text/plain": [
       "106000"
      ]
     },
     "execution_count": 45,
     "metadata": {},
     "output_type": "execute_result"
    }
   ],
   "source": [
    "fortune500.loc['Intel']"
   ]
  },
  {
   "cell_type": "code",
   "execution_count": 46,
   "id": "eb22aadb",
   "metadata": {},
   "outputs": [
    {
     "data": {
      "text/plain": [
       "414400"
      ]
     },
     "execution_count": 46,
     "metadata": {},
     "output_type": "execute_result"
    }
   ],
   "source": [
    "fortune500.loc['IBM']"
   ]
  },
  {
   "cell_type": "code",
   "execution_count": 51,
   "id": "6ba0fc14",
   "metadata": {},
   "outputs": [
    {
     "data": {
      "text/plain": [
       "Title\n",
       "IBM                          414400\n",
       "State Farm Insurance Cos.     68234\n",
       "Phillips 66                   14800\n",
       "Johnson & Johnson            126400\n",
       "Procter & Gamble             105000\n",
       "Valero Energy                  9996\n",
       "Target                       323000\n",
       "Freddie Mac                    5982\n",
       "Lowe’s                       240000\n",
       "Dell Technologies            138000\n",
       "MetLife                       58000\n",
       "Aetna                         49500\n",
       "PepsiCo                      264000\n",
       "Archer Daniels Midland        31800\n",
       "UPS                          335520\n",
       "Intel                        106000\n",
       "Name: Employees, dtype: int64"
      ]
     },
     "execution_count": 51,
     "metadata": {},
     "output_type": "execute_result"
    }
   ],
   "source": [
    "fortune500.loc['IBM':'Intel']"
   ]
  },
  {
   "cell_type": "code",
   "execution_count": 44,
   "id": "b169b4fd",
   "metadata": {},
   "outputs": [],
   "source": [
    "pokType=pd.read_csv('F:/PandasUdemy/course-files/pokemon.csv',usecols=['Name','Type 2'],index_col='Name').squeeze()"
   ]
  },
  {
   "cell_type": "code",
   "execution_count": 57,
   "id": "c30d4cc8",
   "metadata": {},
   "outputs": [
    {
     "data": {
      "text/plain": [
       "414"
      ]
     },
     "execution_count": 57,
     "metadata": {},
     "output_type": "execute_result"
    }
   ],
   "source": [
    "pokType.count()"
   ]
  },
  {
   "cell_type": "code",
   "execution_count": 61,
   "id": "d6e985db",
   "metadata": {},
   "outputs": [
    {
     "data": {
      "text/plain": [
       "Name\n",
       "Bulbasaur                Poison\n",
       "Ivysaur                  Poison\n",
       "Venusaur                 Poison\n",
       "VenusaurMega Venusaur    Poison\n",
       "Charmander                  NaN\n",
       "Name: Type 2, dtype: object"
      ]
     },
     "execution_count": 61,
     "metadata": {},
     "output_type": "execute_result"
    }
   ],
   "source": [
    "pokType.head()"
   ]
  },
  {
   "cell_type": "code",
   "execution_count": 62,
   "id": "d7bbda1c",
   "metadata": {},
   "outputs": [
    {
     "data": {
      "text/plain": [
       "Type 2\n",
       "Flying      97\n",
       "Ground      35\n",
       "Poison      34\n",
       "Psychic     33\n",
       "Fighting    26\n",
       "Grass       25\n",
       "Fairy       23\n",
       "Steel       22\n",
       "Dark        20\n",
       "Dragon      18\n",
       "Water       14\n",
       "Ghost       14\n",
       "Ice         14\n",
       "Rock        14\n",
       "Fire        12\n",
       "Electric     6\n",
       "Normal       4\n",
       "Bug          3\n",
       "Name: count, dtype: int64"
      ]
     },
     "execution_count": 62,
     "metadata": {},
     "output_type": "execute_result"
    }
   ],
   "source": [
    "pokType.value_counts()"
   ]
  },
  {
   "cell_type": "code",
   "execution_count": 73,
   "id": "e7085e5d",
   "metadata": {},
   "outputs": [
    {
     "data": {
      "text/plain": [
       "5"
      ]
     },
     "execution_count": 73,
     "metadata": {},
     "output_type": "execute_result"
    }
   ],
   "source": [
    "pok.min()"
   ]
  },
  {
   "cell_type": "code",
   "execution_count": 71,
   "id": "f3890eaf",
   "metadata": {},
   "outputs": [
    {
     "data": {
      "text/plain": [
       "79.00125"
      ]
     },
     "execution_count": 71,
     "metadata": {},
     "output_type": "execute_result"
    }
   ],
   "source": [
    "pok.mean()"
   ]
  },
  {
   "cell_type": "code",
   "execution_count": 74,
   "id": "2a92cf2c",
   "metadata": {},
   "outputs": [
    {
     "data": {
      "text/plain": [
       "75.0"
      ]
     },
     "execution_count": 74,
     "metadata": {},
     "output_type": "execute_result"
    }
   ],
   "source": [
    "pok.median()"
   ]
  },
  {
   "cell_type": "code",
   "execution_count": 75,
   "id": "3dabd308",
   "metadata": {},
   "outputs": [
    {
     "data": {
      "text/plain": [
       "32.45736586949843"
      ]
     },
     "execution_count": 75,
     "metadata": {},
     "output_type": "execute_result"
    }
   ],
   "source": [
    "pok.std()"
   ]
  },
  {
   "cell_type": "code",
   "execution_count": 5,
   "id": "c11106b0",
   "metadata": {},
   "outputs": [],
   "source": [
    "programmers=pd.read_csv('F:/PandasUdemy/course-files/StackOverflowDeveloperSurvey2018.csv',\n",
    "                        low_memory=False,usecols=['ConvertedSalary']).squeeze()"
   ]
  },
  {
   "cell_type": "code",
   "execution_count": 6,
   "id": "e4aab77d",
   "metadata": {},
   "outputs": [
    {
     "data": {
      "text/plain": [
       "55075.0"
      ]
     },
     "execution_count": 6,
     "metadata": {},
     "output_type": "execute_result"
    }
   ],
   "source": [
    "programmers.median()"
   ]
  },
  {
   "cell_type": "code",
   "execution_count": 9,
   "id": "6e4acc25",
   "metadata": {},
   "outputs": [
    {
     "data": {
      "text/plain": [
       "95780.86178776571"
      ]
     },
     "execution_count": 9,
     "metadata": {},
     "output_type": "execute_result"
    }
   ],
   "source": [
    "programmers.mean()"
   ]
  },
  {
   "cell_type": "code",
   "execution_count": 10,
   "id": "264bb83b",
   "metadata": {},
   "outputs": [
    {
     "data": {
      "text/plain": [
       "202348.21562528735"
      ]
     },
     "execution_count": 10,
     "metadata": {},
     "output_type": "execute_result"
    }
   ],
   "source": [
    "programmers.std()"
   ]
  },
  {
   "cell_type": "code",
   "execution_count": 11,
   "id": "b0c7ec94",
   "metadata": {},
   "outputs": [
    {
     "data": {
      "text/plain": [
       "2000000.0"
      ]
     },
     "execution_count": 11,
     "metadata": {},
     "output_type": "execute_result"
    }
   ],
   "source": [
    "programmers.max()"
   ]
  },
  {
   "cell_type": "code",
   "execution_count": 14,
   "id": "6e8c3077",
   "metadata": {},
   "outputs": [],
   "source": [
    "fortune500=pd.read_csv('F:/PandasUdemy/course-files/Fortune_500_2017.csv',usecols=['Title','Employees'],index_col='Title').squeeze()"
   ]
  },
  {
   "cell_type": "code",
   "execution_count": 15,
   "id": "25011264",
   "metadata": {},
   "outputs": [
    {
     "data": {
      "text/plain": [
       "Title\n",
       "Walmart               2300000\n",
       "Berkshire Hathaway     367700\n",
       "Apple                  116000\n",
       "Exxon Mobil             72700\n",
       "McKesson                68000\n",
       "Name: Employees, dtype: int64"
      ]
     },
     "execution_count": 15,
     "metadata": {},
     "output_type": "execute_result"
    }
   ],
   "source": [
    "fortune500.head()"
   ]
  },
  {
   "cell_type": "code",
   "execution_count": 26,
   "id": "eb2d9240",
   "metadata": {},
   "outputs": [
    {
     "data": {
      "text/plain": [
       "'Walmart'"
      ]
     },
     "execution_count": 26,
     "metadata": {},
     "output_type": "execute_result"
    }
   ],
   "source": [
    "fortune500[fortune500==fortune500.max()].index[0]"
   ]
  },
  {
   "cell_type": "code",
   "execution_count": 27,
   "id": "e49d79d1",
   "metadata": {},
   "outputs": [
    {
     "data": {
      "text/plain": [
       "'Walmart'"
      ]
     },
     "execution_count": 27,
     "metadata": {},
     "output_type": "execute_result"
    }
   ],
   "source": [
    "fortune500.idxmax()"
   ]
  },
  {
   "cell_type": "code",
   "execution_count": 31,
   "id": "d600c7c4",
   "metadata": {},
   "outputs": [
    {
     "data": {
      "text/plain": [
       "2300000"
      ]
     },
     "execution_count": 31,
     "metadata": {},
     "output_type": "execute_result"
    }
   ],
   "source": [
    "fortune500.loc[fortune500.idxmax()]"
   ]
  },
  {
   "cell_type": "code",
   "execution_count": 32,
   "id": "94fb46f0",
   "metadata": {},
   "outputs": [
    {
     "data": {
      "text/plain": [
       "'A-Mark Precious Metals'"
      ]
     },
     "execution_count": 32,
     "metadata": {},
     "output_type": "execute_result"
    }
   ],
   "source": [
    "fortune500.idxmin()"
   ]
  },
  {
   "cell_type": "code",
   "execution_count": 37,
   "id": "67ba15e7",
   "metadata": {},
   "outputs": [
    {
     "data": {
      "text/plain": [
       "83"
      ]
     },
     "execution_count": 37,
     "metadata": {},
     "output_type": "execute_result"
    }
   ],
   "source": [
    "fortune500.loc['A-Mark Precious Metals']\n",
    "fortune500.loc[fortune500.idxmin()]"
   ]
  },
  {
   "cell_type": "code",
   "execution_count": 40,
   "id": "90f581d4",
   "metadata": {},
   "outputs": [
    {
     "data": {
      "text/plain": [
       "Name\n",
       "Bulbasaur                 4900\n",
       "Ivysaur                   6200\n",
       "Venusaur                  8200\n",
       "VenusaurMega Venusaur    10000\n",
       "Charmander                5200\n",
       "                         ...  \n",
       "Diancie                  10000\n",
       "DiancieMega Diancie      16000\n",
       "HoopaHoopa Confined      11000\n",
       "HoopaHoopa Unbound       16000\n",
       "Volcanion                11000\n",
       "Name: Attack, Length: 800, dtype: int64"
      ]
     },
     "execution_count": 40,
     "metadata": {},
     "output_type": "execute_result"
    }
   ],
   "source": [
    "pok * 100"
   ]
  },
  {
   "cell_type": "code",
   "execution_count": 42,
   "id": "d54cb24f",
   "metadata": {},
   "outputs": [],
   "source": [
    "pok.iloc[2]=666"
   ]
  },
  {
   "cell_type": "code",
   "execution_count": 43,
   "id": "d518c167",
   "metadata": {},
   "outputs": [
    {
     "data": {
      "text/plain": [
       "Name\n",
       "Bulbasaur                 49\n",
       "Ivysaur                   62\n",
       "Venusaur                 666\n",
       "VenusaurMega Venusaur    100\n",
       "Charmander                52\n",
       "Name: Attack, dtype: object"
      ]
     },
     "execution_count": 43,
     "metadata": {},
     "output_type": "execute_result"
    }
   ],
   "source": [
    "pok.head()"
   ]
  },
  {
   "cell_type": "code",
   "execution_count": 46,
   "id": "dffe1c91",
   "metadata": {},
   "outputs": [
    {
     "data": {
      "text/plain": [
       "Name\n",
       "Bulbasaur                POISON\n",
       "Ivysaur                  POISON\n",
       "Venusaur                 POISON\n",
       "VenusaurMega Venusaur    POISON\n",
       "Charmander                  NaN\n",
       "                          ...  \n",
       "Diancie                   FAIRY\n",
       "DiancieMega Diancie       FAIRY\n",
       "HoopaHoopa Confined       GHOST\n",
       "HoopaHoopa Unbound         DARK\n",
       "Volcanion                 WATER\n",
       "Name: Type 2, Length: 800, dtype: object"
      ]
     },
     "execution_count": 46,
     "metadata": {},
     "output_type": "execute_result"
    }
   ],
   "source": [
    "pokType.str.upper()"
   ]
  },
  {
   "cell_type": "code",
   "execution_count": 49,
   "id": "d7f56d23",
   "metadata": {},
   "outputs": [],
   "source": [
    "pokT= 'TYPE: ' + pokType.str.upper()"
   ]
  },
  {
   "cell_type": "code",
   "execution_count": 50,
   "id": "c884d1d2",
   "metadata": {},
   "outputs": [
    {
     "data": {
      "text/plain": [
       "Name\n",
       "Bulbasaur                TYPE: POISON\n",
       "Ivysaur                  TYPE: POISON\n",
       "Venusaur                 TYPE: POISON\n",
       "VenusaurMega Venusaur    TYPE: POISON\n",
       "Charmander                        NaN\n",
       "                             ...     \n",
       "Diancie                   TYPE: FAIRY\n",
       "DiancieMega Diancie       TYPE: FAIRY\n",
       "HoopaHoopa Confined       TYPE: GHOST\n",
       "HoopaHoopa Unbound         TYPE: DARK\n",
       "Volcanion                 TYPE: WATER\n",
       "Name: Type 2, Length: 800, dtype: object"
      ]
     },
     "execution_count": 50,
     "metadata": {},
     "output_type": "execute_result"
    }
   ],
   "source": [
    "pokT"
   ]
  },
  {
   "cell_type": "code",
   "execution_count": 52,
   "id": "f4011e72",
   "metadata": {},
   "outputs": [
    {
     "data": {
      "text/plain": [
       "Type 2\n",
       "Flying      97\n",
       "Ground      35\n",
       "Poison      34\n",
       "Psychic     33\n",
       "Fighting    26\n",
       "Grass       25\n",
       "Fairy       23\n",
       "Steel       22\n",
       "Dark        20\n",
       "Dragon      18\n",
       "Water       14\n",
       "Ghost       14\n",
       "Ice         14\n",
       "Rock        14\n",
       "Fire        12\n",
       "Electric     6\n",
       "Normal       4\n",
       "Bug          3\n",
       "Name: count, dtype: int64"
      ]
     },
     "execution_count": 52,
     "metadata": {},
     "output_type": "execute_result"
    }
   ],
   "source": [
    "pokType.value_counts()"
   ]
  },
  {
   "cell_type": "code",
   "execution_count": 64,
   "id": "7317d174",
   "metadata": {},
   "outputs": [],
   "source": [
    "def ReplaceType(OldValue):\n",
    "    if OldValue =='Grass' or OldValue == 'Ground':\n",
    "        return 'Nature'\n",
    "    else:\n",
    "        return OldValue\n",
    "    "
   ]
  },
  {
   "cell_type": "code",
   "execution_count": 69,
   "id": "2d51b2c8",
   "metadata": {},
   "outputs": [
    {
     "data": {
      "text/plain": [
       "Name\n",
       "Bulbasaur                Poison\n",
       "Ivysaur                  Poison\n",
       "Venusaur                 Poison\n",
       "VenusaurMega Venusaur    Poison\n",
       "Charmander                  NaN\n",
       "Name: Type 2, dtype: object"
      ]
     },
     "execution_count": 69,
     "metadata": {},
     "output_type": "execute_result"
    }
   ],
   "source": [
    "pok=pd.read_csv('F:/PandasUdemy/course-files/pokemon.csv',usecols=['Name','Type 2'],index_col='Name').squeeze()\n",
    "pok.head()"
   ]
  },
  {
   "cell_type": "code",
   "execution_count": 66,
   "id": "db077ca2",
   "metadata": {},
   "outputs": [],
   "source": [
    "pokNat = pok.apply(ReplaceType)"
   ]
  },
  {
   "cell_type": "code",
   "execution_count": 67,
   "id": "5e2790d6",
   "metadata": {},
   "outputs": [
    {
     "data": {
      "text/plain": [
       "Type 2\n",
       "Flying      97\n",
       "Nature      60\n",
       "Poison      34\n",
       "Psychic     33\n",
       "Fighting    26\n",
       "Fairy       23\n",
       "Steel       22\n",
       "Dark        20\n",
       "Dragon      18\n",
       "Water       14\n",
       "Ghost       14\n",
       "Ice         14\n",
       "Rock        14\n",
       "Fire        12\n",
       "Electric     6\n",
       "Normal       4\n",
       "Bug          3\n",
       "Name: count, dtype: int64"
      ]
     },
     "execution_count": 67,
     "metadata": {},
     "output_type": "execute_result"
    }
   ],
   "source": [
    "pokNat.value_counts()"
   ]
  },
  {
   "cell_type": "code",
   "execution_count": 95,
   "id": "55882ab2",
   "metadata": {},
   "outputs": [
    {
     "data": {
      "text/plain": [
       "Name\n",
       "Bulbasaur                Poison\n",
       "Ivysaur                  Poison\n",
       "Venusaur                 Poison\n",
       "VenusaurMega Venusaur    Poison\n",
       "Charmander                  NaN\n",
       "Name: Type 2, dtype: object"
      ]
     },
     "execution_count": 95,
     "metadata": {},
     "output_type": "execute_result"
    }
   ],
   "source": [
    "pok.head()"
   ]
  },
  {
   "cell_type": "code",
   "execution_count": 98,
   "id": "f0cdb50c",
   "metadata": {},
   "outputs": [],
   "source": [
    "pokU=pok.apply(lambda s:s.upper() if isinstance(s, str) else s)"
   ]
  },
  {
   "cell_type": "code",
   "execution_count": 99,
   "id": "1c448c2b",
   "metadata": {},
   "outputs": [
    {
     "data": {
      "text/plain": [
       "Name\n",
       "Bulbasaur                POISON\n",
       "Ivysaur                  POISON\n",
       "Venusaur                 POISON\n",
       "VenusaurMega Venusaur    POISON\n",
       "Charmander                  NaN\n",
       "Name: Type 2, dtype: object"
      ]
     },
     "execution_count": 99,
     "metadata": {},
     "output_type": "execute_result"
    }
   ],
   "source": [
    "pokU.head()"
   ]
  },
  {
   "cell_type": "code",
   "execution_count": 100,
   "id": "daec9fc5",
   "metadata": {},
   "outputs": [],
   "source": [
    "surveys=pd.read_csv('F:/PandasUdemy/course-files/StackOverflowDeveloperSurvey.csv',usecols=['Salary']).squeeze()"
   ]
  },
  {
   "cell_type": "code",
   "execution_count": 101,
   "id": "59900327",
   "metadata": {},
   "outputs": [],
   "source": [
    "surveys.dropna(inplace=True)"
   ]
  },
  {
   "cell_type": "code",
   "execution_count": 102,
   "id": "99a45b12",
   "metadata": {},
   "outputs": [
    {
     "data": {
      "text/plain": [
       "2     113750.0\n",
       "14    100000.0\n",
       "17    130000.0\n",
       "18     82500.0\n",
       "22    100764.0\n",
       "Name: Salary, dtype: float64"
      ]
     },
     "execution_count": 102,
     "metadata": {},
     "output_type": "execute_result"
    }
   ],
   "source": [
    "surveys.head()"
   ]
  },
  {
   "cell_type": "code",
   "execution_count": 103,
   "id": "6bbcedbe",
   "metadata": {},
   "outputs": [
    {
     "data": {
      "text/plain": [
       "Salary\n",
       "120000.000000    167\n",
       "110000.000000    164\n",
       "100000.000000    155\n",
       "75000.000000     149\n",
       "60000.000000     139\n",
       "                ... \n",
       "45243.750000       1\n",
       "2634.408602        1\n",
       "1238.765432        1\n",
       "66300.000000       1\n",
       "6460.138012        1\n",
       "Name: count, Length: 3049, dtype: int64"
      ]
     },
     "execution_count": 103,
     "metadata": {},
     "output_type": "execute_result"
    }
   ],
   "source": [
    "surveys.value_counts()"
   ]
  },
  {
   "cell_type": "code",
   "execution_count": 107,
   "id": "31435565",
   "metadata": {},
   "outputs": [],
   "source": [
    "surveysIncrease = surveys*1,0o3"
   ]
  },
  {
   "cell_type": "code",
   "execution_count": 112,
   "id": "63d86633",
   "metadata": {},
   "outputs": [],
   "source": [
    "surveysTime=pd.read_csv('F:/PandasUdemy/course-files/StackOverflowDeveloperSurvey2018.csv',low_memory=False,usecols=['HoursOutside']).squeeze()"
   ]
  },
  {
   "cell_type": "code",
   "execution_count": 113,
   "id": "5d38e887",
   "metadata": {},
   "outputs": [],
   "source": [
    "surveysTime.dropna(inplace=True)"
   ]
  },
  {
   "cell_type": "code",
   "execution_count": 114,
   "id": "3b87fdce",
   "metadata": {},
   "outputs": [
    {
     "data": {
      "text/plain": [
       "HoursOutside\n",
       "1 - 2 hours             27788\n",
       "30 - 59 minutes         24002\n",
       "Less than 30 minutes    11223\n",
       "3 - 4 hours              7186\n",
       "Over 4 hours             1825\n",
       "Name: count, dtype: int64"
      ]
     },
     "execution_count": 114,
     "metadata": {},
     "output_type": "execute_result"
    }
   ],
   "source": [
    "surveysTime.value_counts()"
   ]
  },
  {
   "cell_type": "code",
   "execution_count": 116,
   "id": "a88407f3",
   "metadata": {},
   "outputs": [],
   "source": [
    "sTU=surveysTime.apply(lambda s:s.upper())"
   ]
  },
  {
   "cell_type": "code",
   "execution_count": 117,
   "id": "1ea93181",
   "metadata": {},
   "outputs": [
    {
     "data": {
      "text/plain": [
       "0             1 - 2 HOURS\n",
       "1         30 - 59 MINUTES\n",
       "3    LESS THAN 30 MINUTES\n",
       "4             1 - 2 HOURS\n",
       "5         30 - 59 MINUTES\n",
       "Name: HoursOutside, dtype: object"
      ]
     },
     "execution_count": 117,
     "metadata": {},
     "output_type": "execute_result"
    }
   ],
   "source": [
    "sTU.head()"
   ]
  },
  {
   "cell_type": "code",
   "execution_count": 121,
   "id": "42f784bb",
   "metadata": {},
   "outputs": [],
   "source": [
    "def ChangeDescription(OldDescr):\n",
    "    if OldDescr == 'LESS THAN 30 MINUTES':\n",
    "        return 'LESS THAN HALFHOUR'\n",
    "    else:\n",
    "        return OldDescr\n",
    "        "
   ]
  },
  {
   "cell_type": "code",
   "execution_count": 122,
   "id": "f6659d3d",
   "metadata": {},
   "outputs": [],
   "source": [
    "sTUC = sTU.apply(ChangeDescription)"
   ]
  },
  {
   "cell_type": "code",
   "execution_count": 123,
   "id": "b2adee75",
   "metadata": {},
   "outputs": [
    {
     "data": {
      "text/plain": [
       "0               1 - 2 HOURS\n",
       "1           30 - 59 MINUTES\n",
       "3        LESS THAN HALFHOUR\n",
       "4               1 - 2 HOURS\n",
       "5           30 - 59 MINUTES\n",
       "                ...        \n",
       "93408           1 - 2 HOURS\n",
       "93416           3 - 4 HOURS\n",
       "93435           1 - 2 HOURS\n",
       "93442    LESS THAN HALFHOUR\n",
       "93462           1 - 2 HOURS\n",
       "Name: HoursOutside, Length: 72024, dtype: object"
      ]
     },
     "execution_count": 123,
     "metadata": {},
     "output_type": "execute_result"
    }
   ],
   "source": [
    "sTUC"
   ]
  },
  {
   "cell_type": "code",
   "execution_count": 125,
   "id": "a9b9a036",
   "metadata": {},
   "outputs": [],
   "source": [
    "dict = {\n",
    "    'PYT001':'Airbus 320',\n",
    "    'PYT002':'Boeing 737',\n",
    "    'PYT003':'Airbus 321'\n",
    "}"
   ]
  },
  {
   "cell_type": "code",
   "execution_count": 126,
   "id": "f131136c",
   "metadata": {},
   "outputs": [],
   "source": [
    "aircrafts = pd.Series(dict)"
   ]
  },
  {
   "cell_type": "code",
   "execution_count": 136,
   "id": "22a59f79",
   "metadata": {},
   "outputs": [
    {
     "data": {
      "text/plain": [
       "PYT001    Airbus 320\n",
       "PYT002    Boeing 737\n",
       "PYT003    Airbus 321\n",
       "dtype: object"
      ]
     },
     "execution_count": 136,
     "metadata": {},
     "output_type": "execute_result"
    }
   ],
   "source": [
    "aircrafts"
   ]
  },
  {
   "cell_type": "code",
   "execution_count": 142,
   "id": "bacc2c0a",
   "metadata": {},
   "outputs": [],
   "source": [
    "flightsList = []"
   ]
  },
  {
   "cell_type": "code",
   "execution_count": 143,
   "id": "07847eac",
   "metadata": {},
   "outputs": [],
   "source": [
    "for i in range(100):\n",
    "    flightsList.append(rd.choice(aircrafts.index))"
   ]
  },
  {
   "cell_type": "code",
   "execution_count": 144,
   "id": "169a3876",
   "metadata": {},
   "outputs": [
    {
     "data": {
      "text/plain": [
       "['PYT002',\n",
       " 'PYT003',\n",
       " 'PYT003',\n",
       " 'PYT001',\n",
       " 'PYT003',\n",
       " 'PYT001',\n",
       " 'PYT002',\n",
       " 'PYT001',\n",
       " 'PYT002',\n",
       " 'PYT001',\n",
       " 'PYT003',\n",
       " 'PYT001',\n",
       " 'PYT001',\n",
       " 'PYT001',\n",
       " 'PYT002',\n",
       " 'PYT003',\n",
       " 'PYT001',\n",
       " 'PYT003',\n",
       " 'PYT001',\n",
       " 'PYT003',\n",
       " 'PYT003',\n",
       " 'PYT002',\n",
       " 'PYT001',\n",
       " 'PYT001',\n",
       " 'PYT001',\n",
       " 'PYT002',\n",
       " 'PYT002',\n",
       " 'PYT002',\n",
       " 'PYT003',\n",
       " 'PYT002',\n",
       " 'PYT001',\n",
       " 'PYT002',\n",
       " 'PYT003',\n",
       " 'PYT003',\n",
       " 'PYT002',\n",
       " 'PYT002',\n",
       " 'PYT001',\n",
       " 'PYT002',\n",
       " 'PYT002',\n",
       " 'PYT003',\n",
       " 'PYT003',\n",
       " 'PYT002',\n",
       " 'PYT001',\n",
       " 'PYT002',\n",
       " 'PYT001',\n",
       " 'PYT003',\n",
       " 'PYT001',\n",
       " 'PYT002',\n",
       " 'PYT001',\n",
       " 'PYT003',\n",
       " 'PYT002',\n",
       " 'PYT003',\n",
       " 'PYT001',\n",
       " 'PYT001',\n",
       " 'PYT002',\n",
       " 'PYT001',\n",
       " 'PYT001',\n",
       " 'PYT001',\n",
       " 'PYT002',\n",
       " 'PYT003',\n",
       " 'PYT003',\n",
       " 'PYT001',\n",
       " 'PYT003',\n",
       " 'PYT002',\n",
       " 'PYT003',\n",
       " 'PYT003',\n",
       " 'PYT001',\n",
       " 'PYT002',\n",
       " 'PYT003',\n",
       " 'PYT003',\n",
       " 'PYT002',\n",
       " 'PYT002',\n",
       " 'PYT002',\n",
       " 'PYT001',\n",
       " 'PYT003',\n",
       " 'PYT001',\n",
       " 'PYT002',\n",
       " 'PYT001',\n",
       " 'PYT003',\n",
       " 'PYT001',\n",
       " 'PYT002',\n",
       " 'PYT001',\n",
       " 'PYT002',\n",
       " 'PYT003',\n",
       " 'PYT002',\n",
       " 'PYT001',\n",
       " 'PYT001',\n",
       " 'PYT003',\n",
       " 'PYT003',\n",
       " 'PYT001',\n",
       " 'PYT001',\n",
       " 'PYT003',\n",
       " 'PYT001',\n",
       " 'PYT001',\n",
       " 'PYT002',\n",
       " 'PYT003',\n",
       " 'PYT002',\n",
       " 'PYT003',\n",
       " 'PYT001',\n",
       " 'PYT003']"
      ]
     },
     "execution_count": 144,
     "metadata": {},
     "output_type": "execute_result"
    }
   ],
   "source": [
    "flightsList"
   ]
  },
  {
   "cell_type": "code",
   "execution_count": 147,
   "id": "85e31915",
   "metadata": {},
   "outputs": [],
   "source": [
    "flights=pd.Series(flightsList)"
   ]
  },
  {
   "cell_type": "code",
   "execution_count": 148,
   "id": "3095c577",
   "metadata": {},
   "outputs": [
    {
     "data": {
      "text/plain": [
       "0    PYT002\n",
       "1    PYT003\n",
       "2    PYT003\n",
       "3    PYT001\n",
       "4    PYT003\n",
       "dtype: object"
      ]
     },
     "execution_count": 148,
     "metadata": {},
     "output_type": "execute_result"
    }
   ],
   "source": [
    "flights.head()"
   ]
  },
  {
   "cell_type": "code",
   "execution_count": 149,
   "id": "f583f8a3",
   "metadata": {},
   "outputs": [
    {
     "data": {
      "text/plain": [
       "PYT001    Airbus 320\n",
       "PYT002    Boeing 737\n",
       "PYT003    Airbus 321\n",
       "dtype: object"
      ]
     },
     "execution_count": 149,
     "metadata": {},
     "output_type": "execute_result"
    }
   ],
   "source": [
    "aircrafts.head()"
   ]
  },
  {
   "cell_type": "code",
   "execution_count": 150,
   "id": "ae3a0367",
   "metadata": {},
   "outputs": [],
   "source": [
    "flights_aircrafts = flights.map(aircrafts)"
   ]
  },
  {
   "cell_type": "code",
   "execution_count": 151,
   "id": "4f6b6f22",
   "metadata": {},
   "outputs": [
    {
     "data": {
      "text/plain": [
       "0    Boeing 737\n",
       "1    Airbus 321\n",
       "2    Airbus 321\n",
       "3    Airbus 320\n",
       "4    Airbus 321\n",
       "dtype: object"
      ]
     },
     "execution_count": 151,
     "metadata": {},
     "output_type": "execute_result"
    }
   ],
   "source": [
    "flights_aircrafts.head()"
   ]
  },
  {
   "cell_type": "code",
   "execution_count": null,
   "id": "3a749b19",
   "metadata": {},
   "outputs": [],
   "source": []
  }
 ],
 "metadata": {
  "kernelspec": {
   "display_name": "Python 3 (ipykernel)",
   "language": "python",
   "name": "python3"
  },
  "language_info": {
   "codemirror_mode": {
    "name": "ipython",
    "version": 3
   },
   "file_extension": ".py",
   "mimetype": "text/x-python",
   "name": "python",
   "nbconvert_exporter": "python",
   "pygments_lexer": "ipython3",
   "version": "3.11.5"
  }
 },
 "nbformat": 4,
 "nbformat_minor": 5
}
